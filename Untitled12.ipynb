{
  "nbformat": 4,
  "nbformat_minor": 0,
  "metadata": {
    "colab": {
      "provenance": [],
      "authorship_tag": "ABX9TyNEtyn8yjqAxzpn+jUD6bcl",
      "include_colab_link": true
    },
    "kernelspec": {
      "name": "python3",
      "display_name": "Python 3"
    },
    "language_info": {
      "name": "python"
    }
  },
  "cells": [
    {
      "cell_type": "markdown",
      "metadata": {
        "id": "view-in-github",
        "colab_type": "text"
      },
      "source": [
        "<a href=\"https://colab.research.google.com/github/rahmosthated/company-employee/blob/main/Untitled12.ipynb\" target=\"_parent\"><img src=\"https://colab.research.google.com/assets/colab-badge.svg\" alt=\"Open In Colab\"/></a>"
      ]
    },
    {
      "cell_type": "code",
      "execution_count": null,
      "metadata": {
        "id": "cF-62y_Py3Ie"
      },
      "outputs": [],
      "source": [
        "# Step 1: Create a list of employees\n",
        "employees = [\n",
        "    {\"Name\": \"John Smith\", \"Position\": \"Software Engineer\", \"Department\": \"IT\", \"Salary\": 90000},\n",
        "    {\"Name\": \"Sarah Lee\", \"Position\": \"Accountant\", \"Department\": \"Finance\", \"Salary\": 75000}\n",
        "]\n",
        "\n",
        "# Step 2: Print the initial employee list\n",
        "print(\"Initial Employees:\")\n",
        "for emp in employees:\n",
        "    print(emp)\n",
        "\n",
        "# Step 3: Change salary of the first employee (John Smith)\n",
        "print(\"\\nBefore Salary Change:\")\n",
        "for emp in employees:\n",
        "    print(emp)\n",
        "\n",
        "employees[0][\"Salary\"] = 95000  # Update salary\n",
        "\n",
        "print(\"\\nAfter Salary Change:\")\n",
        "for emp in employees:\n",
        "    print(emp)\n",
        "\n",
        "# Step 4: Add a new employee (Emily Johnson)\n",
        "new_employee = {\n",
        "    \"Name\": \"Emily Johnson\",\n",
        "    \"Position\": \"Designer\",\n",
        "    \"Department\": \"Marketing\",\n",
        "    \"Salary\": 70000\n",
        "}\n",
        "employees.append(new_employee)  # Add to the list\n",
        "\n",
        "# Step 5: Print final list\n",
        "print(\"\\nFinal Employees List:\")\n",
        "for emp in employees:\n",
        "    print(emp)\n"
      ]
    }
  ]
}